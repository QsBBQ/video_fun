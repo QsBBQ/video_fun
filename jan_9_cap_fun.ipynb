{
 "cells": [
  {
   "cell_type": "code",
   "execution_count": 7,
   "metadata": {
    "collapsed": false
   },
   "outputs": [
    {
     "name": "stdout",
     "output_type": "stream",
     "text": [
      "Populating the interactive namespace from numpy and matplotlib\n"
     ]
    }
   ],
   "source": [
    "%pylab inline"
   ]
  },
  {
   "cell_type": "code",
   "execution_count": 8,
   "metadata": {
    "collapsed": true
   },
   "outputs": [],
   "source": [
    "import pandas as pd"
   ]
  },
  {
   "cell_type": "code",
   "execution_count": 9,
   "metadata": {
    "collapsed": false
   },
   "outputs": [],
   "source": [
    "df=pd.read_table(\"prot_cap.csv\")"
   ]
  },
  {
   "cell_type": "code",
   "execution_count": 10,
   "metadata": {
    "collapsed": false,
    "scrolled": true
   },
   "outputs": [
    {
     "data": {
      "text/html": [
       "<div>\n",
       "<table border=\"1\" class=\"dataframe\">\n",
       "  <thead>\n",
       "    <tr style=\"text-align: right;\">\n",
       "      <th></th>\n",
       "      <th>frame.number</th>\n",
       "      <th>frame.time</th>\n",
       "      <th>frame.time_relative</th>\n",
       "      <th>ip.proto</th>\n",
       "      <th>ip.src</th>\n",
       "      <th>udp.srcport</th>\n",
       "      <th>tcp.srcport</th>\n",
       "      <th>ip.dst</th>\n",
       "      <th>udp.dstport</th>\n",
       "      <th>tcp.dstport</th>\n",
       "      <th>frame.len</th>\n",
       "    </tr>\n",
       "  </thead>\n",
       "  <tbody>\n",
       "    <tr>\n",
       "      <th>0</th>\n",
       "      <td>1</td>\n",
       "      <td>Apr 25, 2006 05:58:54.624365001 CDT</td>\n",
       "      <td>0.000000</td>\n",
       "      <td>17</td>\n",
       "      <td>192.168.62.121</td>\n",
       "      <td>32917</td>\n",
       "      <td>NaN</td>\n",
       "      <td>227.111.1.3</td>\n",
       "      <td>12345</td>\n",
       "      <td>NaN</td>\n",
       "      <td>1358</td>\n",
       "    </tr>\n",
       "    <tr>\n",
       "      <th>1</th>\n",
       "      <td>2</td>\n",
       "      <td>Apr 25, 2006 05:58:54.624484002 CDT</td>\n",
       "      <td>0.000119</td>\n",
       "      <td>17</td>\n",
       "      <td>192.168.62.121</td>\n",
       "      <td>32915</td>\n",
       "      <td>NaN</td>\n",
       "      <td>227.111.1.1</td>\n",
       "      <td>12345</td>\n",
       "      <td>NaN</td>\n",
       "      <td>1358</td>\n",
       "    </tr>\n",
       "    <tr>\n",
       "      <th>2</th>\n",
       "      <td>3</td>\n",
       "      <td>Apr 25, 2006 05:58:54.624692003 CDT</td>\n",
       "      <td>0.000327</td>\n",
       "      <td>17</td>\n",
       "      <td>192.168.62.121</td>\n",
       "      <td>32916</td>\n",
       "      <td>NaN</td>\n",
       "      <td>227.111.1.2</td>\n",
       "      <td>12345</td>\n",
       "      <td>NaN</td>\n",
       "      <td>1358</td>\n",
       "    </tr>\n",
       "    <tr>\n",
       "      <th>3</th>\n",
       "      <td>4</td>\n",
       "      <td>Apr 25, 2006 05:58:54.624911004 CDT</td>\n",
       "      <td>0.000546</td>\n",
       "      <td>17</td>\n",
       "      <td>192.168.62.121</td>\n",
       "      <td>32920</td>\n",
       "      <td>NaN</td>\n",
       "      <td>227.111.1.4</td>\n",
       "      <td>12345</td>\n",
       "      <td>NaN</td>\n",
       "      <td>1358</td>\n",
       "    </tr>\n",
       "    <tr>\n",
       "      <th>4</th>\n",
       "      <td>5</td>\n",
       "      <td>Apr 25, 2006 05:58:54.625132000 CDT</td>\n",
       "      <td>0.000767</td>\n",
       "      <td>17</td>\n",
       "      <td>192.168.62.121</td>\n",
       "      <td>32923</td>\n",
       "      <td>NaN</td>\n",
       "      <td>227.111.1.6</td>\n",
       "      <td>12345</td>\n",
       "      <td>NaN</td>\n",
       "      <td>1358</td>\n",
       "    </tr>\n",
       "  </tbody>\n",
       "</table>\n",
       "</div>"
      ],
      "text/plain": [
       "   frame.number                           frame.time  frame.time_relative  \\\n",
       "0             1  Apr 25, 2006 05:58:54.624365001 CDT             0.000000   \n",
       "1             2  Apr 25, 2006 05:58:54.624484002 CDT             0.000119   \n",
       "2             3  Apr 25, 2006 05:58:54.624692003 CDT             0.000327   \n",
       "3             4  Apr 25, 2006 05:58:54.624911004 CDT             0.000546   \n",
       "4             5  Apr 25, 2006 05:58:54.625132000 CDT             0.000767   \n",
       "\n",
       "   ip.proto          ip.src  udp.srcport  tcp.srcport       ip.dst  \\\n",
       "0        17  192.168.62.121        32917          NaN  227.111.1.3   \n",
       "1        17  192.168.62.121        32915          NaN  227.111.1.1   \n",
       "2        17  192.168.62.121        32916          NaN  227.111.1.2   \n",
       "3        17  192.168.62.121        32920          NaN  227.111.1.4   \n",
       "4        17  192.168.62.121        32923          NaN  227.111.1.6   \n",
       "\n",
       "   udp.dstport  tcp.dstport  frame.len  \n",
       "0        12345          NaN       1358  \n",
       "1        12345          NaN       1358  \n",
       "2        12345          NaN       1358  \n",
       "3        12345          NaN       1358  \n",
       "4        12345          NaN       1358  "
      ]
     },
     "execution_count": 10,
     "metadata": {},
     "output_type": "execute_result"
    }
   ],
   "source": [
    "df.head()"
   ]
  },
  {
   "cell_type": "code",
   "execution_count": 11,
   "metadata": {
    "collapsed": false
   },
   "outputs": [
    {
     "data": {
      "text/plain": [
       "count    13519.000000\n",
       "mean      6760.000000\n",
       "std       3902.743479\n",
       "min          1.000000\n",
       "25%       3380.500000\n",
       "50%       6760.000000\n",
       "75%      10139.500000\n",
       "max      13519.000000\n",
       "Name: frame.number, dtype: float64"
      ]
     },
     "execution_count": 11,
     "metadata": {},
     "output_type": "execute_result"
    }
   ],
   "source": [
    "df[\"frame.number\"].describe()"
   ]
  },
  {
   "cell_type": "code",
   "execution_count": 26,
   "metadata": {
    "collapsed": false
   },
   "outputs": [
    {
     "data": {
      "text/plain": [
       "Timestamp('2006-04-25 05:58:54.624484002')"
      ]
     },
     "execution_count": 26,
     "metadata": {},
     "output_type": "execute_result"
    }
   ],
   "source": [
    "# Nanosecond and timezone support!! Nice!\n",
    "df[\"frame.dt\"] = df[\"frame.time\"].apply(lambda x: pd.to_datetime(x, format=\"%b %d, %Y %H:%M:%S.%f %Z\"))\n",
    "#df[\"frame.dt\"] = df[\"frame.time\"].apply(lambda x:np.datetime64(x[:-4]))\n",
    "df[\"frame.dt\"].head()\n",
    "df[\"frame.dt\"].iloc[1]"
   ]
  },
  {
   "cell_type": "code",
   "execution_count": 25,
   "metadata": {
    "collapsed": false
   },
   "outputs": [
    {
     "data": {
      "text/html": [
       "<div>\n",
       "<table border=\"1\" class=\"dataframe\">\n",
       "  <thead>\n",
       "    <tr style=\"text-align: right;\">\n",
       "      <th></th>\n",
       "      <th>frame.number</th>\n",
       "      <th>frame.time</th>\n",
       "      <th>frame.time_relative</th>\n",
       "      <th>ip.proto</th>\n",
       "      <th>ip.src</th>\n",
       "      <th>udp.srcport</th>\n",
       "      <th>tcp.srcport</th>\n",
       "      <th>ip.dst</th>\n",
       "      <th>udp.dstport</th>\n",
       "      <th>tcp.dstport</th>\n",
       "      <th>frame.len</th>\n",
       "    </tr>\n",
       "    <tr>\n",
       "      <th>frame.dt</th>\n",
       "      <th></th>\n",
       "      <th></th>\n",
       "      <th></th>\n",
       "      <th></th>\n",
       "      <th></th>\n",
       "      <th></th>\n",
       "      <th></th>\n",
       "      <th></th>\n",
       "      <th></th>\n",
       "      <th></th>\n",
       "      <th></th>\n",
       "    </tr>\n",
       "  </thead>\n",
       "  <tbody>\n",
       "    <tr>\n",
       "      <th>2006-04-25 05:58:54.624365001</th>\n",
       "      <td>1</td>\n",
       "      <td>Apr 25, 2006 05:58:54.624365001 CDT</td>\n",
       "      <td>0.000000</td>\n",
       "      <td>17</td>\n",
       "      <td>192.168.62.121</td>\n",
       "      <td>32917</td>\n",
       "      <td>NaN</td>\n",
       "      <td>227.111.1.3</td>\n",
       "      <td>12345</td>\n",
       "      <td>NaN</td>\n",
       "      <td>1358</td>\n",
       "    </tr>\n",
       "    <tr>\n",
       "      <th>2006-04-25 05:58:54.624484002</th>\n",
       "      <td>2</td>\n",
       "      <td>Apr 25, 2006 05:58:54.624484002 CDT</td>\n",
       "      <td>0.000119</td>\n",
       "      <td>17</td>\n",
       "      <td>192.168.62.121</td>\n",
       "      <td>32915</td>\n",
       "      <td>NaN</td>\n",
       "      <td>227.111.1.1</td>\n",
       "      <td>12345</td>\n",
       "      <td>NaN</td>\n",
       "      <td>1358</td>\n",
       "    </tr>\n",
       "    <tr>\n",
       "      <th>2006-04-25 05:58:54.624692003</th>\n",
       "      <td>3</td>\n",
       "      <td>Apr 25, 2006 05:58:54.624692003 CDT</td>\n",
       "      <td>0.000327</td>\n",
       "      <td>17</td>\n",
       "      <td>192.168.62.121</td>\n",
       "      <td>32916</td>\n",
       "      <td>NaN</td>\n",
       "      <td>227.111.1.2</td>\n",
       "      <td>12345</td>\n",
       "      <td>NaN</td>\n",
       "      <td>1358</td>\n",
       "    </tr>\n",
       "    <tr>\n",
       "      <th>2006-04-25 05:58:54.624911004</th>\n",
       "      <td>4</td>\n",
       "      <td>Apr 25, 2006 05:58:54.624911004 CDT</td>\n",
       "      <td>0.000546</td>\n",
       "      <td>17</td>\n",
       "      <td>192.168.62.121</td>\n",
       "      <td>32920</td>\n",
       "      <td>NaN</td>\n",
       "      <td>227.111.1.4</td>\n",
       "      <td>12345</td>\n",
       "      <td>NaN</td>\n",
       "      <td>1358</td>\n",
       "    </tr>\n",
       "    <tr>\n",
       "      <th>2006-04-25 05:58:54.625132000</th>\n",
       "      <td>5</td>\n",
       "      <td>Apr 25, 2006 05:58:54.625132000 CDT</td>\n",
       "      <td>0.000767</td>\n",
       "      <td>17</td>\n",
       "      <td>192.168.62.121</td>\n",
       "      <td>32923</td>\n",
       "      <td>NaN</td>\n",
       "      <td>227.111.1.6</td>\n",
       "      <td>12345</td>\n",
       "      <td>NaN</td>\n",
       "      <td>1358</td>\n",
       "    </tr>\n",
       "  </tbody>\n",
       "</table>\n",
       "</div>"
      ],
      "text/plain": [
       "                               frame.number  \\\n",
       "frame.dt                                      \n",
       "2006-04-25 05:58:54.624365001             1   \n",
       "2006-04-25 05:58:54.624484002             2   \n",
       "2006-04-25 05:58:54.624692003             3   \n",
       "2006-04-25 05:58:54.624911004             4   \n",
       "2006-04-25 05:58:54.625132000             5   \n",
       "\n",
       "                                                        frame.time  \\\n",
       "frame.dt                                                             \n",
       "2006-04-25 05:58:54.624365001  Apr 25, 2006 05:58:54.624365001 CDT   \n",
       "2006-04-25 05:58:54.624484002  Apr 25, 2006 05:58:54.624484002 CDT   \n",
       "2006-04-25 05:58:54.624692003  Apr 25, 2006 05:58:54.624692003 CDT   \n",
       "2006-04-25 05:58:54.624911004  Apr 25, 2006 05:58:54.624911004 CDT   \n",
       "2006-04-25 05:58:54.625132000  Apr 25, 2006 05:58:54.625132000 CDT   \n",
       "\n",
       "                               frame.time_relative  ip.proto          ip.src  \\\n",
       "frame.dt                                                                       \n",
       "2006-04-25 05:58:54.624365001             0.000000        17  192.168.62.121   \n",
       "2006-04-25 05:58:54.624484002             0.000119        17  192.168.62.121   \n",
       "2006-04-25 05:58:54.624692003             0.000327        17  192.168.62.121   \n",
       "2006-04-25 05:58:54.624911004             0.000546        17  192.168.62.121   \n",
       "2006-04-25 05:58:54.625132000             0.000767        17  192.168.62.121   \n",
       "\n",
       "                               udp.srcport  tcp.srcport       ip.dst  \\\n",
       "frame.dt                                                               \n",
       "2006-04-25 05:58:54.624365001        32917          NaN  227.111.1.3   \n",
       "2006-04-25 05:58:54.624484002        32915          NaN  227.111.1.1   \n",
       "2006-04-25 05:58:54.624692003        32916          NaN  227.111.1.2   \n",
       "2006-04-25 05:58:54.624911004        32920          NaN  227.111.1.4   \n",
       "2006-04-25 05:58:54.625132000        32923          NaN  227.111.1.6   \n",
       "\n",
       "                               udp.dstport  tcp.dstport  frame.len  \n",
       "frame.dt                                                            \n",
       "2006-04-25 05:58:54.624365001        12345          NaN       1358  \n",
       "2006-04-25 05:58:54.624484002        12345          NaN       1358  \n",
       "2006-04-25 05:58:54.624692003        12345          NaN       1358  \n",
       "2006-04-25 05:58:54.624911004        12345          NaN       1358  \n",
       "2006-04-25 05:58:54.625132000        12345          NaN       1358  "
      ]
     },
     "execution_count": 25,
     "metadata": {},
     "output_type": "execute_result"
    }
   ],
   "source": [
    "dft = df.set_index(\"frame.dt\")\n",
    "dft.head()"
   ]
  },
  {
   "cell_type": "code",
   "execution_count": 64,
   "metadata": {
    "collapsed": false,
    "scrolled": true
   },
   "outputs": [
    {
     "name": "stdout",
     "output_type": "stream",
     "text": [
      "[ 17.   6.  nan]\n",
      "conv                                     conv_dir\n",
      "192.168.62.121:32915-227.111.1.1:12345   a->b        3686970\n",
      "192.168.62.121:32917-227.111.1.3:12345   a->b        3481912\n",
      "192.168.62.121:32921-227.111.1.5:12345   a->b        3384136\n",
      "192.168.62.121:32923-227.111.1.6:12345   a->b        3287718\n",
      "192.168.62.121:32920-227.111.1.4:12345   a->b        2748592\n",
      "192.168.62.121:32916-227.111.1.2:12345   a->b        1351210\n",
      "10.100.100.100:2834-192.168.62.121:5901  b->a          29511\n",
      "10.100.100.100:4610-192.168.62.121:22    b->a           7428\n",
      "192.168.62.121:32927-192.168.62.2:53     b->a           6935\n",
      "10.100.100.100:2834-192.168.62.121:5901  a->b           5360\n",
      "192.168.62.121:32927-192.168.62.2:53     a->b           4063\n",
      "192.168.62.95:6-236.0.0.0:6              a->b           1275\n",
      "10.100.100.100:4615-192.168.62.121:22    b->a            722\n",
      "10.100.100.100:4610-192.168.62.121:22    a->b            438\n",
      "192.168.62.249:137-192.168.62.255:137    a->b            368\n",
      "192.168.62.188:137-192.168.62.255:137    a->b            276\n",
      "192.168.62.255:11-192.168.62.98:11       b->a            115\n",
      "10.100.100.100:4615-192.168.62.121:22    a->b            106\n",
      "Name: frame.len, dtype: int64\n"
     ]
    },
    {
     "name": "stderr",
     "output_type": "stream",
     "text": [
      "/Users/qavila/.pyenv/versions/3.4.3/lib/python3.4/site-packages/IPython/kernel/__main__.py:75: FutureWarning: order is deprecated, use sort_values(...)\n"
     ]
    }
   ],
   "source": [
    "# Find all conversations\n",
    "# Potential example\n",
    "# Addr_A, Port_A, Addr_B, Port_B, total_packets, total_bytes, bytes A=>B, bytes B=>A, Max_ms_per_sec_burst A=>B, Max_ms_per_sec_burst B=>A\n",
    "\n",
    "print (df[\"ip.proto\"].unique())\n",
    "\n",
    "def get_conv_id(row, return_id):\n",
    "    sip = row[\"ip.src\"]\n",
    "    try:\n",
    "        is_udp = int(row[\"ip.proto\"]) == 17\n",
    "    except:\n",
    "        return None\n",
    "    if is_udp:\n",
    "        sport = row [\"udp.srcport\"]\n",
    "    else:\n",
    "        sport = row[\"tcp.srcport\"]\n",
    "        \n",
    "    tip= row[\"ip.dst\"]\n",
    "    if is_udp:\n",
    "        tport = row [\"udp.dstport\"]\n",
    "    else:\n",
    "        tport = row[\"tcp.dstport\"]\n",
    "        \n",
    "#         soucre=123\n",
    "#         target =345\n",
    "#         source2 = 987\n",
    "#         target2 = 765\n",
    "#         123:port-234:port\n",
    "                \n",
    "#         if soucre=345\n",
    "#         target=123\n",
    "#         then the if codtition is true\n",
    "#         because 123<345\n",
    "#         so then i reverse sourcfe and target\n",
    "#         so the ide is agian\n",
    "#         123:port-234:port\n",
    "    direction=\"a->b\"\n",
    "    if tip==sip:\n",
    "        if tport<sport:\n",
    "            direction=\"b->a\"\n",
    "            tmp=sport\n",
    "            sport=tport\n",
    "            tport=tmp\n",
    "    elif tip<sip:\n",
    "        direction=\"b->a\"\n",
    "        tmp=sip\n",
    "        sip=tip\n",
    "        tip=tmp\n",
    "        tmp=sport\n",
    "        sport=tport\n",
    "        tport=tmp\n",
    "\n",
    "    else:\n",
    "        pass\n",
    "    conv_id = \"{}:{}-{}:{}\".format(sip,int(sport),tip,int(tport))\n",
    "    if return_id:\n",
    "        return conv_id\n",
    "    else:\n",
    "        return direction\n",
    "    \n",
    "dft[\"conv\"] = dft.apply(lambda x:get_conv_id(x,True),axis=1)\n",
    "dft[\"conv_dir\"] = dft.apply(lambda x:get_conv_id(x,False),axis=1)\n",
    "\n",
    "\n",
    "#print(df[[\"conv\",\"conv_dir\"]][:25])\n",
    "grpd = dft.groupby(\"conv\")\n",
    "framelen_per_convo = grpd[\"frame.len\"].sum()\n",
    "#started = grpd[\"frame.dt\"].min()\n",
    "#ended = grpd[\"frame.dt\"].max()\n",
    "#print(framelen_per_convo)\n",
    "#print(len(framelen_per_convo))\n",
    "#print(started)\n",
    "#ended-started\n",
    "bytes_per_dir = dft.groupby([\"conv\",\"conv_dir\"])[\"frame.len\"].sum()\n",
    "bytes_per_dir.order(inplace=True, ascending=False)\n",
    "print(bytes_per_dir)\n",
    "    "
   ]
  },
  {
   "cell_type": "code",
   "execution_count": 65,
   "metadata": {
    "collapsed": false
   },
   "outputs": [
    {
     "ename": "TypeError",
     "evalue": "Only valid with DatetimeIndex, TimedeltaIndex or PeriodIndex",
     "output_type": "error",
     "traceback": [
      "\u001b[0;31m---------------------------------------------------------------------------\u001b[0m",
      "\u001b[0;31mTypeError\u001b[0m                                 Traceback (most recent call last)",
      "\u001b[0;32m<ipython-input-65-c0800df1489e>\u001b[0m in \u001b[0;36m<module>\u001b[0;34m()\u001b[0m\n\u001b[1;32m      1\u001b[0m \u001b[0mgrpd2\u001b[0m \u001b[0;34m=\u001b[0m \u001b[0mdf\u001b[0m\u001b[0;34m.\u001b[0m\u001b[0mgroupby\u001b[0m\u001b[0;34m(\u001b[0m\u001b[0;34m[\u001b[0m\u001b[0;34m\"conv\"\u001b[0m\u001b[0;34m,\u001b[0m\u001b[0;34m\"conv_dir\"\u001b[0m\u001b[0;34m]\u001b[0m\u001b[0;34m)\u001b[0m\u001b[0;34m\u001b[0m\u001b[0m\n\u001b[0;32m----> 2\u001b[0;31m \u001b[0mprint\u001b[0m \u001b[0;34m(\u001b[0m\u001b[0mgrpd2\u001b[0m\u001b[0;34m.\u001b[0m\u001b[0mapply\u001b[0m\u001b[0;34m(\u001b[0m\u001b[0;32mlambda\u001b[0m \u001b[0mdf\u001b[0m\u001b[0;34m:\u001b[0m\u001b[0;36m1000\u001b[0m\u001b[0;34m*\u001b[0m\u001b[0mdf\u001b[0m\u001b[0;34m[\u001b[0m\u001b[0;34m\"frame.len\"\u001b[0m\u001b[0;34m]\u001b[0m\u001b[0;34m.\u001b[0m\u001b[0mresample\u001b[0m\u001b[0;34m(\u001b[0m\u001b[0;34m\"L\"\u001b[0m\u001b[0;34m,\u001b[0m \u001b[0mhow\u001b[0m\u001b[0;34m=\u001b[0m\u001b[0;34m\"sum\"\u001b[0m\u001b[0;34m)\u001b[0m \u001b[0;34m*\u001b[0m \u001b[0;36m8.0\u001b[0m \u001b[0;34m)\u001b[0m\u001b[0;34m)\u001b[0m\u001b[0;34m\u001b[0m\u001b[0m\n\u001b[0m",
      "\u001b[0;32m/Users/qavila/.pyenv/versions/3.4.3/lib/python3.4/site-packages/pandas/core/groupby.py\u001b[0m in \u001b[0;36mapply\u001b[0;34m(self, func, *args, **kwargs)\u001b[0m\n\u001b[1;32m    713\u001b[0m         \u001b[0;31m# ignore SettingWithCopy here in case the user mutates\u001b[0m\u001b[0;34m\u001b[0m\u001b[0;34m\u001b[0m\u001b[0m\n\u001b[1;32m    714\u001b[0m         \u001b[0;32mwith\u001b[0m \u001b[0moption_context\u001b[0m\u001b[0;34m(\u001b[0m\u001b[0;34m'mode.chained_assignment'\u001b[0m\u001b[0;34m,\u001b[0m\u001b[0;32mNone\u001b[0m\u001b[0;34m)\u001b[0m\u001b[0;34m:\u001b[0m\u001b[0;34m\u001b[0m\u001b[0m\n\u001b[0;32m--> 715\u001b[0;31m             \u001b[0;32mreturn\u001b[0m \u001b[0mself\u001b[0m\u001b[0;34m.\u001b[0m\u001b[0m_python_apply_general\u001b[0m\u001b[0;34m(\u001b[0m\u001b[0mf\u001b[0m\u001b[0;34m)\u001b[0m\u001b[0;34m\u001b[0m\u001b[0m\n\u001b[0m\u001b[1;32m    716\u001b[0m \u001b[0;34m\u001b[0m\u001b[0m\n\u001b[1;32m    717\u001b[0m     \u001b[0;32mdef\u001b[0m \u001b[0m_python_apply_general\u001b[0m\u001b[0;34m(\u001b[0m\u001b[0mself\u001b[0m\u001b[0;34m,\u001b[0m \u001b[0mf\u001b[0m\u001b[0;34m)\u001b[0m\u001b[0;34m:\u001b[0m\u001b[0;34m\u001b[0m\u001b[0m\n",
      "\u001b[0;32m/Users/qavila/.pyenv/versions/3.4.3/lib/python3.4/site-packages/pandas/core/groupby.py\u001b[0m in \u001b[0;36m_python_apply_general\u001b[0;34m(self, f)\u001b[0m\n\u001b[1;32m    717\u001b[0m     \u001b[0;32mdef\u001b[0m \u001b[0m_python_apply_general\u001b[0m\u001b[0;34m(\u001b[0m\u001b[0mself\u001b[0m\u001b[0;34m,\u001b[0m \u001b[0mf\u001b[0m\u001b[0;34m)\u001b[0m\u001b[0;34m:\u001b[0m\u001b[0;34m\u001b[0m\u001b[0m\n\u001b[1;32m    718\u001b[0m         keys, values, mutated = self.grouper.apply(f, self._selected_obj,\n\u001b[0;32m--> 719\u001b[0;31m                                                    self.axis)\n\u001b[0m\u001b[1;32m    720\u001b[0m \u001b[0;34m\u001b[0m\u001b[0m\n\u001b[1;32m    721\u001b[0m         return self._wrap_applied_output(keys, values,\n",
      "\u001b[0;32m/Users/qavila/.pyenv/versions/3.4.3/lib/python3.4/site-packages/pandas/core/groupby.py\u001b[0m in \u001b[0;36mapply\u001b[0;34m(self, f, data, axis)\u001b[0m\n\u001b[1;32m   1404\u001b[0m             \u001b[0;31m# group might be modified\u001b[0m\u001b[0;34m\u001b[0m\u001b[0;34m\u001b[0m\u001b[0m\n\u001b[1;32m   1405\u001b[0m             \u001b[0mgroup_axes\u001b[0m \u001b[0;34m=\u001b[0m \u001b[0m_get_axes\u001b[0m\u001b[0;34m(\u001b[0m\u001b[0mgroup\u001b[0m\u001b[0;34m)\u001b[0m\u001b[0;34m\u001b[0m\u001b[0m\n\u001b[0;32m-> 1406\u001b[0;31m             \u001b[0mres\u001b[0m \u001b[0;34m=\u001b[0m \u001b[0mf\u001b[0m\u001b[0;34m(\u001b[0m\u001b[0mgroup\u001b[0m\u001b[0;34m)\u001b[0m\u001b[0;34m\u001b[0m\u001b[0m\n\u001b[0m\u001b[1;32m   1407\u001b[0m             \u001b[0;32mif\u001b[0m \u001b[0;32mnot\u001b[0m \u001b[0m_is_indexed_like\u001b[0m\u001b[0;34m(\u001b[0m\u001b[0mres\u001b[0m\u001b[0;34m,\u001b[0m \u001b[0mgroup_axes\u001b[0m\u001b[0;34m)\u001b[0m\u001b[0;34m:\u001b[0m\u001b[0;34m\u001b[0m\u001b[0m\n\u001b[1;32m   1408\u001b[0m                 \u001b[0mmutated\u001b[0m \u001b[0;34m=\u001b[0m \u001b[0;32mTrue\u001b[0m\u001b[0;34m\u001b[0m\u001b[0m\n",
      "\u001b[0;32m/Users/qavila/.pyenv/versions/3.4.3/lib/python3.4/site-packages/pandas/core/groupby.py\u001b[0m in \u001b[0;36mf\u001b[0;34m(g)\u001b[0m\n\u001b[1;32m    709\u001b[0m         \u001b[0;34m@\u001b[0m\u001b[0mwraps\u001b[0m\u001b[0;34m(\u001b[0m\u001b[0mfunc\u001b[0m\u001b[0;34m)\u001b[0m\u001b[0;34m\u001b[0m\u001b[0m\n\u001b[1;32m    710\u001b[0m         \u001b[0;32mdef\u001b[0m \u001b[0mf\u001b[0m\u001b[0;34m(\u001b[0m\u001b[0mg\u001b[0m\u001b[0;34m)\u001b[0m\u001b[0;34m:\u001b[0m\u001b[0;34m\u001b[0m\u001b[0m\n\u001b[0;32m--> 711\u001b[0;31m             \u001b[0;32mreturn\u001b[0m \u001b[0mfunc\u001b[0m\u001b[0;34m(\u001b[0m\u001b[0mg\u001b[0m\u001b[0;34m,\u001b[0m \u001b[0;34m*\u001b[0m\u001b[0margs\u001b[0m\u001b[0;34m,\u001b[0m \u001b[0;34m**\u001b[0m\u001b[0mkwargs\u001b[0m\u001b[0;34m)\u001b[0m\u001b[0;34m\u001b[0m\u001b[0m\n\u001b[0m\u001b[1;32m    712\u001b[0m \u001b[0;34m\u001b[0m\u001b[0m\n\u001b[1;32m    713\u001b[0m         \u001b[0;31m# ignore SettingWithCopy here in case the user mutates\u001b[0m\u001b[0;34m\u001b[0m\u001b[0;34m\u001b[0m\u001b[0m\n",
      "\u001b[0;32m<ipython-input-65-c0800df1489e>\u001b[0m in \u001b[0;36m<lambda>\u001b[0;34m(df)\u001b[0m\n\u001b[1;32m      1\u001b[0m \u001b[0mgrpd2\u001b[0m \u001b[0;34m=\u001b[0m \u001b[0mdf\u001b[0m\u001b[0;34m.\u001b[0m\u001b[0mgroupby\u001b[0m\u001b[0;34m(\u001b[0m\u001b[0;34m[\u001b[0m\u001b[0;34m\"conv\"\u001b[0m\u001b[0;34m,\u001b[0m\u001b[0;34m\"conv_dir\"\u001b[0m\u001b[0;34m]\u001b[0m\u001b[0;34m)\u001b[0m\u001b[0;34m\u001b[0m\u001b[0m\n\u001b[0;32m----> 2\u001b[0;31m \u001b[0mprint\u001b[0m \u001b[0;34m(\u001b[0m\u001b[0mgrpd2\u001b[0m\u001b[0;34m.\u001b[0m\u001b[0mapply\u001b[0m\u001b[0;34m(\u001b[0m\u001b[0;32mlambda\u001b[0m \u001b[0mdf\u001b[0m\u001b[0;34m:\u001b[0m\u001b[0;36m1000\u001b[0m\u001b[0;34m*\u001b[0m\u001b[0mdf\u001b[0m\u001b[0;34m[\u001b[0m\u001b[0;34m\"frame.len\"\u001b[0m\u001b[0;34m]\u001b[0m\u001b[0;34m.\u001b[0m\u001b[0mresample\u001b[0m\u001b[0;34m(\u001b[0m\u001b[0;34m\"L\"\u001b[0m\u001b[0;34m,\u001b[0m \u001b[0mhow\u001b[0m\u001b[0;34m=\u001b[0m\u001b[0;34m\"sum\"\u001b[0m\u001b[0;34m)\u001b[0m \u001b[0;34m*\u001b[0m \u001b[0;36m8.0\u001b[0m \u001b[0;34m)\u001b[0m\u001b[0;34m)\u001b[0m\u001b[0;34m\u001b[0m\u001b[0m\n\u001b[0m",
      "\u001b[0;32m/Users/qavila/.pyenv/versions/3.4.3/lib/python3.4/site-packages/pandas/core/generic.py\u001b[0m in \u001b[0;36mresample\u001b[0;34m(self, rule, how, axis, fill_method, closed, label, convention, kind, loffset, limit, base)\u001b[0m\n\u001b[1;32m   3641\u001b[0m                               \u001b[0mfill_method\u001b[0m\u001b[0;34m=\u001b[0m\u001b[0mfill_method\u001b[0m\u001b[0;34m,\u001b[0m \u001b[0mconvention\u001b[0m\u001b[0;34m=\u001b[0m\u001b[0mconvention\u001b[0m\u001b[0;34m,\u001b[0m\u001b[0;34m\u001b[0m\u001b[0m\n\u001b[1;32m   3642\u001b[0m                               limit=limit, base=base)\n\u001b[0;32m-> 3643\u001b[0;31m         \u001b[0;32mreturn\u001b[0m \u001b[0msampler\u001b[0m\u001b[0;34m.\u001b[0m\u001b[0mresample\u001b[0m\u001b[0;34m(\u001b[0m\u001b[0mself\u001b[0m\u001b[0;34m)\u001b[0m\u001b[0;34m.\u001b[0m\u001b[0m__finalize__\u001b[0m\u001b[0;34m(\u001b[0m\u001b[0mself\u001b[0m\u001b[0;34m)\u001b[0m\u001b[0;34m\u001b[0m\u001b[0m\n\u001b[0m\u001b[1;32m   3644\u001b[0m \u001b[0;34m\u001b[0m\u001b[0m\n\u001b[1;32m   3645\u001b[0m     \u001b[0;32mdef\u001b[0m \u001b[0mfirst\u001b[0m\u001b[0;34m(\u001b[0m\u001b[0mself\u001b[0m\u001b[0;34m,\u001b[0m \u001b[0moffset\u001b[0m\u001b[0;34m)\u001b[0m\u001b[0;34m:\u001b[0m\u001b[0;34m\u001b[0m\u001b[0m\n",
      "\u001b[0;32m/Users/qavila/.pyenv/versions/3.4.3/lib/python3.4/site-packages/pandas/tseries/resample.py\u001b[0m in \u001b[0;36mresample\u001b[0;34m(self, obj)\u001b[0m\n\u001b[1;32m    100\u001b[0m             \u001b[0;32mreturn\u001b[0m \u001b[0mself\u001b[0m\u001b[0;34m.\u001b[0m\u001b[0mobj\u001b[0m\u001b[0;34m\u001b[0m\u001b[0m\n\u001b[1;32m    101\u001b[0m         \u001b[0;32melse\u001b[0m\u001b[0;34m:\u001b[0m  \u001b[0;31m# pragma: no cover\u001b[0m\u001b[0;34m\u001b[0m\u001b[0m\n\u001b[0;32m--> 102\u001b[0;31m             \u001b[0;32mraise\u001b[0m \u001b[0mTypeError\u001b[0m\u001b[0;34m(\u001b[0m\u001b[0;34m'Only valid with DatetimeIndex, TimedeltaIndex or PeriodIndex'\u001b[0m\u001b[0;34m)\u001b[0m\u001b[0;34m\u001b[0m\u001b[0m\n\u001b[0m\u001b[1;32m    103\u001b[0m \u001b[0;34m\u001b[0m\u001b[0m\n\u001b[1;32m    104\u001b[0m         \u001b[0mrs_axis\u001b[0m \u001b[0;34m=\u001b[0m \u001b[0mrs\u001b[0m\u001b[0;34m.\u001b[0m\u001b[0m_get_axis\u001b[0m\u001b[0;34m(\u001b[0m\u001b[0mself\u001b[0m\u001b[0;34m.\u001b[0m\u001b[0maxis\u001b[0m\u001b[0;34m)\u001b[0m\u001b[0;34m\u001b[0m\u001b[0m\n",
      "\u001b[0;31mTypeError\u001b[0m: Only valid with DatetimeIndex, TimedeltaIndex or PeriodIndex"
     ]
    }
   ],
   "source": [
    "grpd2 = df.groupby([\"conv\",\"conv_dir\"])\n",
    "#print (grpd2.apply(lambda df:1000*df[\"frame.len\"].resample(\"L\", how=\"sum\") * 8.0 ))"
   ]
  },
  {
   "cell_type": "code",
   "execution_count": 43,
   "metadata": {
    "collapsed": true
   },
   "outputs": [],
   "source": [
    "#Filter on Conversation for bps and max ms burst"
   ]
  },
  {
   "cell_type": "code",
   "execution_count": 29,
   "metadata": {
    "collapsed": false
   },
   "outputs": [
    {
     "data": {
      "text/plain": [
       "<matplotlib.axes._subplots.AxesSubplot at 0x112c7ee10>"
      ]
     },
     "execution_count": 29,
     "metadata": {},
     "output_type": "execute_result"
    },
    {
     "data": {
      "image/png": "[encoded data removed]",
      "text/plain": [
       "<matplotlib.figure.Figure at 0x115198a90>"
      ]
     },
     "metadata": {},
     "output_type": "display_data"
    }
   ],
   "source": [
    "# Frequency resample flags\"L\" millisecond \"U\" microsecond\n",
    "bits_per_second_per_ms =  1000*dft[\"frame.len\"].resample(\"L\", how=\"sum\") * 8.0\n",
    "# myslice = bits_per_second_per_ms[910:925]\n",
    "bits_per_second_per_ms.plot()\n",
    "# myslice.plot()"
   ]
  },
  {
   "cell_type": "code",
   "execution_count": 30,
   "metadata": {
    "collapsed": false
   },
   "outputs": [
    {
     "name": "stdout",
     "output_type": "stream",
     "text": [
      "76528000.0\n",
      "frame.dt\n",
      "2006-04-25 05:58:55.146    76048000\n",
      "2006-04-25 05:58:55.430    76048000\n",
      "2006-04-25 05:58:55.461    76528000\n",
      "2006-04-25 05:58:55.685    76048000\n",
      "2006-04-25 05:58:55.765    76048000\n",
      "2006-04-25 05:58:55.766    76048000\n",
      "2006-04-25 05:58:56.000    76048000\n",
      "2006-04-25 05:58:56.235    76048000\n",
      "2006-04-25 05:58:56.586    76048000\n",
      "2006-04-25 05:58:56.652    76048000\n",
      "2006-04-25 05:58:57.236    76048000\n",
      "2006-04-25 05:58:57.513    76048000\n",
      "2006-04-25 05:58:57.665    76048000\n",
      "2006-04-25 05:58:57.786    76048000\n",
      "2006-04-25 05:58:57.997    76048000\n",
      "2006-04-25 05:58:58.270    76048000\n",
      "2006-04-25 05:58:58.304    76048000\n",
      "2006-04-25 05:58:58.331    76048000\n",
      "2006-04-25 05:58:58.333    76048000\n",
      "2006-04-25 05:58:58.483    76048000\n",
      "2006-04-25 05:58:58.551    76048000\n",
      "2006-04-25 05:58:58.611    76048000\n",
      "2006-04-25 05:58:58.616    76048000\n",
      "2006-04-25 05:58:58.670    76048000\n",
      "2006-04-25 05:58:59.020    76048000\n",
      "2006-04-25 05:58:59.255    76048000\n",
      "2006-04-25 05:58:59.303    76048000\n",
      "2006-04-25 05:58:59.385    76048000\n",
      "2006-04-25 05:58:59.387    76048000\n",
      "2006-04-25 05:58:59.586    76048000\n",
      "Name: frame.len, dtype: float64\n"
     ]
    }
   ],
   "source": [
    "# Spikes\n",
    "print(bits_per_second_per_ms.max())\n",
    "spikes = bits_per_second_per_ms[bits_per_second_per_ms>70000000]\n",
    "print(spikes)\n",
    "#Need to review getting all conversations for burst intervals"
   ]
  },
  {
   "cell_type": "code",
   "execution_count": 13,
   "metadata": {
    "collapsed": true
   },
   "outputs": [],
   "source": [
    "# Definable Directional lists. ie."
   ]
  },
  {
   "cell_type": "code",
   "execution_count": 18,
   "metadata": {
    "collapsed": false
   },
   "outputs": [],
   "source": [
    "#Quick time test\n",
    "#http://pandas.pydata.org/pandas-docs/stable/gotchas.html\n",
    "begin = pd.Timestamp.min"
   ]
  },
  {
   "cell_type": "code",
   "execution_count": 19,
   "metadata": {
    "collapsed": false
   },
   "outputs": [
    {
     "data": {
      "text/plain": [
       "Timestamp('1677-09-22 00:12:43.145225')"
      ]
     },
     "execution_count": 19,
     "metadata": {},
     "output_type": "execute_result"
    }
   ],
   "source": [
    "begin"
   ]
  },
  {
   "cell_type": "code",
   "execution_count": 20,
   "metadata": {
    "collapsed": true
   },
   "outputs": [],
   "source": [
    "end = pd.Timestamp.max"
   ]
  },
  {
   "cell_type": "code",
   "execution_count": 21,
   "metadata": {
    "collapsed": false
   },
   "outputs": [
    {
     "data": {
      "text/plain": [
       "Timestamp('2262-04-11 23:47:16.854775807')"
      ]
     },
     "execution_count": 21,
     "metadata": {},
     "output_type": "execute_result"
    }
   ],
   "source": [
    "end"
   ]
  },
  {
   "cell_type": "code",
   "execution_count": null,
   "metadata": {
    "collapsed": true
   },
   "outputs": [],
   "source": []
  }
 ],
 "metadata": {
  "kernelspec": {
   "display_name": "Python 3",
   "language": "python",
   "name": "python3"
  },
  "language_info": {
   "codemirror_mode": {
    "name": "ipython",
    "version": 3
   },
   "file_extension": ".py",
   "mimetype": "text/x-python",
   "name": "python",
   "nbconvert_exporter": "python",
   "pygments_lexer": "ipython3",
   "version": "3.4.3"
  }
 },
 "nbformat": 4,
 "nbformat_minor": 0
}
